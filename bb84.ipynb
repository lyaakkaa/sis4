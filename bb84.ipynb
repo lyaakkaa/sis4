{
 "cells": [
  {
   "cell_type": "code",
   "execution_count": 1,
   "metadata": {},
   "outputs": [],
   "source": [
    "import numpy as np\n",
    "import qutip as qt"
   ]
  },
  {
   "cell_type": "code",
   "execution_count": 2,
   "metadata": {},
   "outputs": [],
   "source": [
    "# Determine whether eavesdropping will take place\n",
    "eavesdropper_present = False"
   ]
  },
  {
   "cell_type": "code",
   "execution_count": 3,
   "metadata": {},
   "outputs": [],
   "source": [
    "# Define converting functions\n",
    "def message_to_binary_str(message):\n",
    "    return ''.join(format(ord(i), '08b') for i in message)\n",
    "\n",
    "def binary_str_to_message(bin_str):\n",
    "    char_list = []\n",
    "    for i in range(0, len(bin_str), 8):\n",
    "        ch = chr(int(bin_str[i:i+8], 2))\n",
    "        char_list.append(ch)\n",
    "        \n",
    "    return ''.join(char_list)    "
   ]
  },
  {
   "cell_type": "code",
   "execution_count": 4,
   "metadata": {},
   "outputs": [],
   "source": [
    "# Ask for message input\n",
    "is_ascii = False\n",
    "\n",
    "while not is_ascii:\n",
    "    message = str(input(\"Enter message to be encrypted: \"))\n",
    "    is_ascii = all(ord(c) < 128 for c in message)  # check if message is in ASCII\n",
    "\n",
    "binary_message =  message_to_binary_str(message)"
   ]
  },
  {
   "cell_type": "code",
   "execution_count": 5,
   "metadata": {},
   "outputs": [],
   "source": [
    "# Determine message length and the lenth of the random sequances\n",
    "n = len(binary_message)\n",
    "m = 6*n"
   ]
  },
  {
   "cell_type": "markdown",
   "metadata": {},
   "source": [
    "Preparation phase"
   ]
  },
  {
   "cell_type": "code",
   "execution_count": 6,
   "metadata": {},
   "outputs": [],
   "source": [
    "#  Define the constants that Bob and Alice agree on in the preparation phase\n",
    "RECTILINEAR_BASIS = 0\n",
    "DIAGONAL_BASIS = 1\n",
    "\n",
    "# In rectilinear basis\n",
    "HORIZONTAL_POL = 0\n",
    "VERTICAL_POL = 1\n",
    "\n",
    "# In diagonal basis\n",
    "DIAGONAL_45_POL = 0\n",
    "DIAGONAL_135_POL = 1"
   ]
  },
  {
   "cell_type": "code",
   "execution_count": 7,
   "metadata": {},
   "outputs": [],
   "source": [
    "# Generate Alice's and Bob's random bases sequences of size m\n",
    "alice_rand_bases_seq = np.random.choice([RECTILINEAR_BASIS, DIAGONAL_BASIS], size=m)\n",
    "bob_rand_bases_seq = np.random.choice([RECTILINEAR_BASIS, DIAGONAL_BASIS], size=m)\n",
    "\n",
    "# Generate Alice's random bit sequence of size m\n",
    "alice_rand_bit_seq = np.random.choice([0, 1], size=m).tolist()\n",
    "\n",
    "if eavesdropper_present:\n",
    "    # Generate Eve's random bases sequence of size m\n",
    "    eve_rand_bases_seq = np.random.choice([RECTILINEAR_BASIS, DIAGONAL_BASIS], size=m)\n",
    "            "
   ]
  },
  {
   "cell_type": "code",
   "execution_count": 8,
   "metadata": {},
   "outputs": [],
   "source": [
    "# Describe bases of Hilbert vector space\n",
    "basis_0 = qt.basis(2,0)\n",
    "basis_1 = qt.basis(2,1)\n",
    "\n",
    "# Describe polarization states in Hilbert vector space\n",
    "photon_h = basis_0                            # horizontally polarized photon\n",
    "photon_v = basis_1                            # vertically polarized photon\n",
    "photon_d45 = (basis_0 + basis_1).unit()       # diagonally polarized photon (45 deg)\n",
    "photon_d135 = ((-1)*basis_0 + basis_1).unit() # diagonally polarized photon (135 deg)"
   ]
  },
  {
   "cell_type": "code",
   "execution_count": 9,
   "metadata": {},
   "outputs": [],
   "source": [
    "b = qt.Bloch()\n",
    "b.add_states(photon_h)\n",
    "b.add_states(photon_v)\n",
    "b.add_states(photon_d45)\n"
   ]
  },
  {
   "cell_type": "code",
   "execution_count": 10,
   "metadata": {},
   "outputs": [],
   "source": [
    "# Define the measurement operators simulating Bob's choice of polarization filters\n",
    "vertical_filter = qt.Qobj([[0, 0],\n",
    "                           [0, 1]])        # Bob uses vertically oriented filter for measurement in rectilinear basis\n",
    "\n",
    "diagonal45_filter = qt.Qobj([[0.5, 0.5],\n",
    "                             [0.5, 0.5]])  # Bob uses diagonally oriented filter (45 deg) for measurement in diagonal basis"
   ]
  },
  {
   "cell_type": "code",
   "execution_count": 11,
   "metadata": {},
   "outputs": [
    {
     "data": {
      "text/plain": [
       "(0.0,\n",
       " Quantum object: dims=[[2], [1]], shape=(2, 1), type='ket', dtype=Dense\n",
       " Qobj data =\n",
       " [[-0.70710678]\n",
       "  [ 0.70710678]])"
      ]
     },
     "execution_count": 11,
     "metadata": {},
     "output_type": "execute_result"
    }
   ],
   "source": [
    "qt.measurement.measure_observable(photon_v, diagonal45_filter)  # example of nondeterministic measurement (rerun the cell)"
   ]
  },
  {
   "cell_type": "markdown",
   "metadata": {},
   "source": [
    "Transmission phase"
   ]
  },
  {
   "cell_type": "code",
   "execution_count": 12,
   "metadata": {},
   "outputs": [],
   "source": [
    "def pick_photon_polarization(basis, bit_value):\n",
    "    # Polarization of the photon Alice sends depends on her random sequances\n",
    "    if basis == RECTILINEAR_BASIS:\n",
    "        if bit_value == HORIZONTAL_POL:\n",
    "            photon = photon_h\n",
    "            sign = \"H\"\n",
    "        else:  # bit_value == VERTICAL_POL:\n",
    "            photon = photon_v\n",
    "            sign = \"V\"\n",
    "            \n",
    "    else:  # basis == DIAGONAL_BASIS\n",
    "        if bit_value == DIAGONAL_45_POL:\n",
    "            photon = photon_d45\n",
    "            sign = \"D45\"\n",
    "        else:  # bit_value == DIAGONAL_135_POL\n",
    "            photon = photon_d135\n",
    "            sign = \"D135\"\n",
    "            \n",
    "    return photon, sign"
   ]
  },
  {
   "cell_type": "code",
   "execution_count": 13,
   "metadata": {},
   "outputs": [],
   "source": [
    "def measure_polarization(photon, basis):\n",
    "    pol_filter = vertical_filter if basis == RECTILINEAR_BASIS else diagonal45_filter\n",
    "\n",
    "    passed_filter, photon_out = qt.measurement.measure_observable(photon, pol_filter)\n",
    "    \n",
    "    if pol_filter == vertical_filter:\n",
    "        if passed_filter:\n",
    "            value = VERTICAL_POL    # if photon passes, it is assumed to have the polarization of the filter\n",
    "        else:\n",
    "            value = HORIZONTAL_POL  # if photon doesn't pass, it is assumed to be orthogonal to the filter\n",
    "            \n",
    "    else:\n",
    "        if passed_filter:\n",
    "            value = DIAGONAL_45_POL\n",
    "        else:\n",
    "            value = DIAGONAL_135_POL\n",
    "            \n",
    "    return value, photon_out"
   ]
  },
  {
   "cell_type": "code",
   "execution_count": 14,
   "metadata": {},
   "outputs": [],
   "source": [
    "# Perform transmission\n",
    "\n",
    "bob_measured_values = []\n",
    "photons_sent = [] # keep track of the photons Alice sent (for demonstration purposes)\n",
    "\n",
    "for basis_a, bit_value, basis_b, i in zip(alice_rand_bases_seq, alice_rand_bit_seq, bob_rand_bases_seq, range(m)):\n",
    "    \n",
    "    # Alice picks a polarized foton source according to her random sequances\n",
    "    photon, sign = pick_photon_polarization(basis_a, bit_value)\n",
    "    photons_sent.append(sign)\n",
    "            \n",
    "    # Alice sends the picked photon to Bob\n",
    "    if eavesdropper_present:\n",
    "        _, photon = measure_polarization(photon, eve_rand_bases_seq[i])\n",
    "    \n",
    "    #Bob measures the photon\n",
    "    value, _ = measure_polarization(photon, basis_b)\n",
    "    bob_measured_values.append(int(value))  # append value to the end of Bob's measurements sequence"
   ]
  },
  {
   "cell_type": "markdown",
   "metadata": {},
   "source": [
    "Elimination phase"
   ]
  },
  {
   "cell_type": "code",
   "execution_count": 15,
   "metadata": {},
   "outputs": [],
   "source": [
    "# 3) Elimination phase\n",
    "\n",
    "# Alice and Bob compare their random bases sequances\n",
    "bases_disagreement_indices = np.where(alice_rand_bases_seq != bob_rand_bases_seq)[0]"
   ]
  },
  {
   "cell_type": "code",
   "execution_count": 16,
   "metadata": {},
   "outputs": [],
   "source": [
    "# Bob removes elements which he measured in the incorrect base from his measurements sequence\n",
    "for i in np.flip(bases_disagreement_indices):\n",
    "    bob_measured_values.pop(i)\n",
    "    \n",
    "# ALice removes those elements from her random bit sequence\n",
    "for i in np.flip(bases_disagreement_indices):\n",
    "    alice_rand_bit_seq.pop(i)"
   ]
  },
  {
   "cell_type": "code",
   "execution_count": 17,
   "metadata": {},
   "outputs": [],
   "source": [
    "# 4) Error check phase\n",
    "\n",
    "# Bob picks random subset of his measured values sequence, 1/3 of the sequence lenth (after elimination phase) long\n",
    "error_check_indices = np.random.randint(0, len(bob_measured_values), len(bob_measured_values)//3)"
   ]
  },
  {
   "cell_type": "code",
   "execution_count": 18,
   "metadata": {},
   "outputs": [
    {
     "data": {
      "text/plain": [
       "array([  8,  39,  16,  94,  11, 100,  21,  93,  59,  85, 113,  29, 115,\n",
       "        58, 109,  31,  62,   3,  38, 104, 113,  33,  61,  81, 102,  48,\n",
       "        16, 106,  19,  70,  94, 105,  70,  20,  32,  94, 105,  48,  91])"
      ]
     },
     "execution_count": 18,
     "metadata": {},
     "output_type": "execute_result"
    }
   ],
   "source": [
    "error_check_indices  # Bob makes indices public for Alice to pick the same elements from her sequence"
   ]
  },
  {
   "cell_type": "code",
   "execution_count": 19,
   "metadata": {},
   "outputs": [],
   "source": [
    "bob_error_check_subset = []\n",
    "alice_error_check_subset = []\n",
    "\n",
    "for i in np.flip(np.sort(error_check_indices)):\n",
    "    bob_el = bob_measured_values.pop(i)\n",
    "    bob_error_check_subset.append(bob_el)\n",
    "    \n",
    "    alice_el = alice_rand_bit_seq.pop(i)\n",
    "    alice_error_check_subset.append(alice_el)\n",
    "    "
   ]
  },
  {
   "cell_type": "code",
   "execution_count": 20,
   "metadata": {},
   "outputs": [
    {
     "name": "stdout",
     "output_type": "stream",
     "text": [
      "Key was safely established.\n"
     ]
    }
   ],
   "source": [
    "# Compare chosen subsets\n",
    "sequences_identical = bob_measured_values == alice_rand_bit_seq\n",
    "\n",
    "if sequences_identical:\n",
    "    secret_key = alice_rand_bit_seq[:n]  # use first n bits of final sequance as key\n",
    "    print(\"Key was safely established.\")\n",
    "    \n",
    "else:\n",
    "    raise SystemExit(\"Eavesdropper was detected! Key couldn't be safely established.\")\n",
    "    # The bellow code is not executed, communication has to be repeated until a safe key is established."
   ]
  },
  {
   "cell_type": "markdown",
   "metadata": {},
   "source": [
    "Encryption and decryption"
   ]
  },
  {
   "cell_type": "code",
   "execution_count": 25,
   "metadata": {},
   "outputs": [],
   "source": [
    "def encrypt_message(message, key_seq):\n",
    "    key = ''.join(map(str, key_seq))\n",
    "    bin_message = message_to_binary_str(message)\n",
    "    \n",
    "    # Perform binary XOR on the message and the key bitwise\n",
    "    encrypted_bin_seq = [str(int(m) ^ int(k)) for m, k in zip(bin_message, key)]\n",
    "    \n",
    "    encrypted_bin_str = ''.join(encrypted_bin_seq)\n",
    "    encrypted_message = binary_str_to_message(encrypted_bin_str)\n",
    "    \n",
    "    return encrypted_message\n",
    "\n",
    "\n",
    "def decrypt_message(message, key_seq):\n",
    "    return encrypt_message(message, key_seq)  # messages are encrypted en decrypted the same way in Vernam binary cipher\n",
    "    "
   ]
  },
  {
   "cell_type": "code",
   "execution_count": 22,
   "metadata": {},
   "outputs": [
    {
     "name": "stdout",
     "output_type": "stream",
     "text": [
      "The encrypted message is: ¯çAÖ\n"
     ]
    }
   ],
   "source": [
    "encrypted_message = encrypt_message(message, secret_key)\n",
    "\n",
    "print(\"The encrypted message is: \" + encrypted_message)"
   ]
  },
  {
   "cell_type": "code",
   "execution_count": 23,
   "metadata": {},
   "outputs": [
    {
     "name": "stdout",
     "output_type": "stream",
     "text": [
      "The decrypted message is: hello\n"
     ]
    }
   ],
   "source": [
    "decrypted_message = decrypt_message(encrypted_message, bob_measured_values[:n])\n",
    "\n",
    "print(\"The decrypted message is: \" + decrypted_message)"
   ]
  }
 ],
 "metadata": {
  "kernelspec": {
   "display_name": "Python 3",
   "language": "python",
   "name": "python3"
  },
  "language_info": {
   "codemirror_mode": {
    "name": "ipython",
    "version": 3
   },
   "file_extension": ".py",
   "mimetype": "text/x-python",
   "name": "python",
   "nbconvert_exporter": "python",
   "pygments_lexer": "ipython3",
   "version": "3.11.4"
  }
 },
 "nbformat": 4,
 "nbformat_minor": 2
}
